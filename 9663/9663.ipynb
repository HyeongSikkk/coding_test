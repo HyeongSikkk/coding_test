{
 "cells": [
  {
   "cell_type": "code",
   "execution_count": 424,
   "metadata": {},
   "outputs": [
    {
     "name": "stdout",
     "output_type": "stream",
     "text": [
      "352\n"
     ]
    }
   ],
   "source": [
    "len_queens = int(input())\n",
    "cnt = [0]\n",
    "def board_maker(n) :\n",
    "    return {idx:{idx:0 for idx in range(n)} for idx in range(n)}\n",
    "\n",
    "def print_array(array) :\n",
    "    text = ''\n",
    "    for line in array.values() :\n",
    "        line_ = list(map(str, line.values()))\n",
    "        text += ' '.join(line_)+'\\n'\n",
    "    print(text)\n",
    "\n",
    "def check(row, col, n = len_queens) :\n",
    "    for num in board.values() :\n",
    "        if num[col] == 1 :\n",
    "            return False\n",
    "    \n",
    "    # y = x 방향 \n",
    "    # col을 0으로 만들고 시작\n",
    "    s_row, s_col = row, col\n",
    "    for _ in range(col) :\n",
    "        if s_row == n - 1 :\n",
    "            break\n",
    "        s_col -= 1\n",
    "        s_row += 1\n",
    "    # y=x 방향으로 탐색 시작\n",
    "    while True :\n",
    "        try :\n",
    "            if board[s_row][s_col] == 1 :\n",
    "                return False\n",
    "        except :\n",
    "            break\n",
    "        s_row -= 1\n",
    "        s_col += 1\n",
    "        \n",
    "    # y = -x 방향\n",
    "    # row를 0으로 만들고 시작\n",
    "    s_row, s_col = row, col\n",
    "    for _ in range(col) :\n",
    "        if s_row == 0 :\n",
    "            break\n",
    "        s_col -= 1\n",
    "        s_row -= 1\n",
    "    while True :\n",
    "        try :\n",
    "            if board[s_row][s_col] == 1 :\n",
    "                return False\n",
    "        except :\n",
    "            break\n",
    "        s_row += 1\n",
    "        s_col += 1\n",
    "    return True\n",
    "        \n",
    "def solution(n, cols = [i for i in range(len_queens)]) :\n",
    "    if n == len_queens :\n",
    "        #print_array(board)\n",
    "        cnt[0] += 1\n",
    "    else :\n",
    "        for index, col in enumerate(cols) :\n",
    "            if check(n, col) :\n",
    "                board[n][col] = 1\n",
    "                solution(n+1, [*cols[:index], *cols[index+1:]])\n",
    "                board[n][col] = 0\n",
    "\n",
    "board = board_maker(len_queens)\n",
    "solution(0)\n",
    "print(cnt[-1])"
   ]
  },
  {
   "cell_type": "code",
   "execution_count": 436,
   "metadata": {},
   "outputs": [
    {
     "name": "stdout",
     "output_type": "stream",
     "text": [
      "92\n"
     ]
    }
   ],
   "source": [
    "\n",
    "len_queens = int(input())\n",
    "cnt = [0]\n",
    "def board_maker(n) :\n",
    "    return [[0 for i in range(n)]for i in range(n)]\n",
    "    return {idx:{idx:0 for idx in range(n)} for idx in range(n)}\n",
    "\n",
    "def print_array(array) :\n",
    "    text = ''\n",
    "    for line in array :\n",
    "        line_ = list(map(str, line))\n",
    "        text += ' '.join(line_)+'\\n'\n",
    "    print(text)\n",
    "\n",
    "def check(row, col, n = len_queens) :\n",
    "    for num in board :\n",
    "        if num[col] == 1 :\n",
    "            return False\n",
    "    \n",
    "    # y = x 방향 \n",
    "    # col을 0으로 만들고 시작\n",
    "    s_row, s_col = row, col\n",
    "    for _ in range(col) :\n",
    "        if s_row == n - 1 :\n",
    "            break\n",
    "        s_col -= 1\n",
    "        s_row += 1\n",
    "    # y=x 방향으로 탐색 시작\n",
    "    while True :\n",
    "        try :\n",
    "            if board[s_row][s_col] == 1 :\n",
    "                return False\n",
    "        except :\n",
    "            break\n",
    "        s_row -= 1\n",
    "        s_col += 1\n",
    "        \n",
    "    # y = -x 방향\n",
    "    # row를 0으로 만들고 시작\n",
    "    s_row, s_col = row, col\n",
    "    for _ in range(col) :\n",
    "        if s_row == 0 :\n",
    "            break\n",
    "        s_col -= 1\n",
    "        s_row -= 1\n",
    "    while True :\n",
    "        try :\n",
    "            if board[s_row][s_col] == 1 :\n",
    "                return False\n",
    "        except :\n",
    "            break\n",
    "        s_row += 1\n",
    "        s_col += 1\n",
    "    return True\n",
    "        \n",
    "def solution(n, cols = [i for i in range(len_queens)]) :\n",
    "    if n == len_queens :\n",
    "        #print_array(board)\n",
    "        cnt[0] += 1\n",
    "    else :\n",
    "        for index, col in enumerate(cols) :\n",
    "            if check(n, col) :\n",
    "                board[n][col] = 1\n",
    "                solution(n+1, [*cols[:index], *cols[index+1:]])\n",
    "                board[n][col] = 0\n",
    "\n",
    "board = board_maker(len_queens)\n",
    "solution(0)\n",
    "print(cnt[-1])"
   ]
  },
  {
   "cell_type": "code",
   "execution_count": 532,
   "metadata": {},
   "outputs": [
    {
     "ename": "IndexError",
     "evalue": "list index out of range",
     "output_type": "error",
     "traceback": [
      "\u001b[1;31m---------------------------------------------------------------------------\u001b[0m",
      "\u001b[1;31mIndexError\u001b[0m                                Traceback (most recent call last)",
      "Cell \u001b[1;32mIn[532], line 56\u001b[0m\n\u001b[0;32m     53\u001b[0m                 board[n][col] \u001b[38;5;241m=\u001b[39m \u001b[38;5;241m0\u001b[39m\n\u001b[0;32m     55\u001b[0m board \u001b[38;5;241m=\u001b[39m board_maker(len_queens)\n\u001b[1;32m---> 56\u001b[0m \u001b[43msolution\u001b[49m\u001b[43m(\u001b[49m\u001b[38;5;241;43m0\u001b[39;49m\u001b[43m)\u001b[49m\n\u001b[0;32m     57\u001b[0m \u001b[38;5;28mprint\u001b[39m(cnt[\u001b[38;5;241m-\u001b[39m\u001b[38;5;241m1\u001b[39m])\n",
      "Cell \u001b[1;32mIn[532], line 52\u001b[0m, in \u001b[0;36msolution\u001b[1;34m(n, cols)\u001b[0m\n\u001b[0;32m     50\u001b[0m \u001b[38;5;28;01mif\u001b[39;00m check(n, col) :\n\u001b[0;32m     51\u001b[0m     board[n][col] \u001b[38;5;241m=\u001b[39m \u001b[38;5;241m1\u001b[39m\n\u001b[1;32m---> 52\u001b[0m     \u001b[43msolution\u001b[49m\u001b[43m(\u001b[49m\u001b[43mn\u001b[49m\u001b[38;5;241;43m+\u001b[39;49m\u001b[38;5;241;43m1\u001b[39;49m\u001b[43m,\u001b[49m\u001b[43m \u001b[49m\u001b[43m[\u001b[49m\u001b[38;5;241;43m*\u001b[39;49m\u001b[43mcols\u001b[49m\u001b[43m[\u001b[49m\u001b[43m:\u001b[49m\u001b[43mindex\u001b[49m\u001b[43m]\u001b[49m\u001b[43m,\u001b[49m\u001b[43m \u001b[49m\u001b[38;5;241;43m*\u001b[39;49m\u001b[43mcols\u001b[49m\u001b[43m[\u001b[49m\u001b[43mindex\u001b[49m\u001b[38;5;241;43m+\u001b[39;49m\u001b[38;5;241;43m1\u001b[39;49m\u001b[43m:\u001b[49m\u001b[43m]\u001b[49m\u001b[43m]\u001b[49m\u001b[43m)\u001b[49m\n\u001b[0;32m     53\u001b[0m     board[n][col] \u001b[38;5;241m=\u001b[39m \u001b[38;5;241m0\u001b[39m\n",
      "Cell \u001b[1;32mIn[532], line 52\u001b[0m, in \u001b[0;36msolution\u001b[1;34m(n, cols)\u001b[0m\n\u001b[0;32m     50\u001b[0m \u001b[38;5;28;01mif\u001b[39;00m check(n, col) :\n\u001b[0;32m     51\u001b[0m     board[n][col] \u001b[38;5;241m=\u001b[39m \u001b[38;5;241m1\u001b[39m\n\u001b[1;32m---> 52\u001b[0m     \u001b[43msolution\u001b[49m\u001b[43m(\u001b[49m\u001b[43mn\u001b[49m\u001b[38;5;241;43m+\u001b[39;49m\u001b[38;5;241;43m1\u001b[39;49m\u001b[43m,\u001b[49m\u001b[43m \u001b[49m\u001b[43m[\u001b[49m\u001b[38;5;241;43m*\u001b[39;49m\u001b[43mcols\u001b[49m\u001b[43m[\u001b[49m\u001b[43m:\u001b[49m\u001b[43mindex\u001b[49m\u001b[43m]\u001b[49m\u001b[43m,\u001b[49m\u001b[43m \u001b[49m\u001b[38;5;241;43m*\u001b[39;49m\u001b[43mcols\u001b[49m\u001b[43m[\u001b[49m\u001b[43mindex\u001b[49m\u001b[38;5;241;43m+\u001b[39;49m\u001b[38;5;241;43m1\u001b[39;49m\u001b[43m:\u001b[49m\u001b[43m]\u001b[49m\u001b[43m]\u001b[49m\u001b[43m)\u001b[49m\n\u001b[0;32m     53\u001b[0m     board[n][col] \u001b[38;5;241m=\u001b[39m \u001b[38;5;241m0\u001b[39m\n",
      "Cell \u001b[1;32mIn[532], line 52\u001b[0m, in \u001b[0;36msolution\u001b[1;34m(n, cols)\u001b[0m\n\u001b[0;32m     50\u001b[0m \u001b[38;5;28;01mif\u001b[39;00m check(n, col) :\n\u001b[0;32m     51\u001b[0m     board[n][col] \u001b[38;5;241m=\u001b[39m \u001b[38;5;241m1\u001b[39m\n\u001b[1;32m---> 52\u001b[0m     \u001b[43msolution\u001b[49m\u001b[43m(\u001b[49m\u001b[43mn\u001b[49m\u001b[38;5;241;43m+\u001b[39;49m\u001b[38;5;241;43m1\u001b[39;49m\u001b[43m,\u001b[49m\u001b[43m \u001b[49m\u001b[43m[\u001b[49m\u001b[38;5;241;43m*\u001b[39;49m\u001b[43mcols\u001b[49m\u001b[43m[\u001b[49m\u001b[43m:\u001b[49m\u001b[43mindex\u001b[49m\u001b[43m]\u001b[49m\u001b[43m,\u001b[49m\u001b[43m \u001b[49m\u001b[38;5;241;43m*\u001b[39;49m\u001b[43mcols\u001b[49m\u001b[43m[\u001b[49m\u001b[43mindex\u001b[49m\u001b[38;5;241;43m+\u001b[39;49m\u001b[38;5;241;43m1\u001b[39;49m\u001b[43m:\u001b[49m\u001b[43m]\u001b[49m\u001b[43m]\u001b[49m\u001b[43m)\u001b[49m\n\u001b[0;32m     53\u001b[0m     board[n][col] \u001b[38;5;241m=\u001b[39m \u001b[38;5;241m0\u001b[39m\n",
      "Cell \u001b[1;32mIn[532], line 50\u001b[0m, in \u001b[0;36msolution\u001b[1;34m(n, cols)\u001b[0m\n\u001b[0;32m     48\u001b[0m \u001b[38;5;28;01melse\u001b[39;00m :\n\u001b[0;32m     49\u001b[0m     \u001b[38;5;28;01mfor\u001b[39;00m index, col \u001b[38;5;129;01min\u001b[39;00m \u001b[38;5;28menumerate\u001b[39m(cols) :\n\u001b[1;32m---> 50\u001b[0m         \u001b[38;5;28;01mif\u001b[39;00m \u001b[43mcheck\u001b[49m\u001b[43m(\u001b[49m\u001b[43mn\u001b[49m\u001b[43m,\u001b[49m\u001b[43m \u001b[49m\u001b[43mcol\u001b[49m\u001b[43m)\u001b[49m :\n\u001b[0;32m     51\u001b[0m             board[n][col] \u001b[38;5;241m=\u001b[39m \u001b[38;5;241m1\u001b[39m\n\u001b[0;32m     52\u001b[0m             solution(n\u001b[38;5;241m+\u001b[39m\u001b[38;5;241m1\u001b[39m, [\u001b[38;5;241m*\u001b[39mcols[:index], \u001b[38;5;241m*\u001b[39mcols[index\u001b[38;5;241m+\u001b[39m\u001b[38;5;241m1\u001b[39m:]])\n",
      "Cell \u001b[1;32mIn[532], line 27\u001b[0m, in \u001b[0;36mcheck\u001b[1;34m(row, col, n)\u001b[0m\n\u001b[0;32m     25\u001b[0m \u001b[38;5;28;01mif\u001b[39;00m s_row \u001b[38;5;241m<\u001b[39m \u001b[38;5;241m0\u001b[39m \u001b[38;5;129;01mor\u001b[39;00m s_col \u001b[38;5;241m==\u001b[39m n :\n\u001b[0;32m     26\u001b[0m     \u001b[38;5;28;01mbreak\u001b[39;00m\n\u001b[1;32m---> 27\u001b[0m \u001b[38;5;28;01mif\u001b[39;00m \u001b[43mboard\u001b[49m\u001b[43m[\u001b[49m\u001b[43ms_row\u001b[49m\u001b[43m]\u001b[49m[s_col] \u001b[38;5;241m==\u001b[39m \u001b[38;5;241m1\u001b[39m :\n\u001b[0;32m     28\u001b[0m     \u001b[38;5;28;01mreturn\u001b[39;00m \u001b[38;5;28;01mFalse\u001b[39;00m\n\u001b[0;32m     29\u001b[0m s_row \u001b[38;5;241m-\u001b[39m\u001b[38;5;241m=\u001b[39m \u001b[38;5;241m1\u001b[39m\n",
      "\u001b[1;31mIndexError\u001b[0m: list index out of range"
     ]
    }
   ],
   "source": [
    "\n",
    "len_queens = int(input())\n",
    "cnt = [0]\n",
    "def board_maker(n) :\n",
    "    return [[0 for i in range(n)]for i in range(n)]\n",
    "    return {idx:{idx:0 for idx in range(n)} for idx in range(n)}\n",
    "\n",
    "def print_array(array) :\n",
    "    text = ''\n",
    "    for line in array :\n",
    "        line_ = list(map(str, line))\n",
    "        text += ' '.join(line_)+'\\n'\n",
    "    print(text)\n",
    "\n",
    "def check(row, col, n = len_queens) :\n",
    "    # y = x 방향 \n",
    "    # col을 0으로 만들고 시작\n",
    "    s_row, s_col = row, col\n",
    "    # 2, 3 -> 2, 3\n",
    "    # \n",
    "    if row != n - 1 and col != 0:\n",
    "        value = row - col if row >= col else col - row\n",
    "        s_row += value\n",
    "        s_col -= value\n",
    "    for i in range(n) :\n",
    "        if s_row < 0 or s_col == n :\n",
    "            break\n",
    "        if board[s_row][s_col] == 1 :\n",
    "            return False\n",
    "        s_row -= 1\n",
    "        s_col += 1\n",
    "    # y = -x 방향\n",
    "    # row를 0으로 만들고 시작\n",
    "    s_row, s_col = row, col\n",
    "    value = len_queens -1 - s_row if s_row > s_col else len_queens -1 -s_col\n",
    "    s_row += value\n",
    "    s_col += value\n",
    "    for i in range(s_row + 1 if s_row < s_col else s_col + 1) :\n",
    "        if board[s_row][s_col] == 1 :\n",
    "            return False\n",
    "        s_row -= 1\n",
    "        s_col -= 1\n",
    "    return True\n",
    "        \n",
    "def solution(n, cols = [i for i in range(len_queens)]) :\n",
    "    if n == len_queens :\n",
    "        #print_array(board)\n",
    "        cnt[0] += 1\n",
    "    else :\n",
    "        for index, col in enumerate(cols) :\n",
    "            if check(n, col) :\n",
    "                board[n][col] = 1\n",
    "                solution(n+1, [*cols[:index], *cols[index+1:]])\n",
    "                board[n][col] = 0\n",
    "\n",
    "board = board_maker(len_queens)\n",
    "solution(0)\n",
    "print(cnt[-1])"
   ]
  },
  {
   "cell_type": "code",
   "execution_count": 489,
   "metadata": {},
   "outputs": [
    {
     "name": "stdout",
     "output_type": "stream",
     "text": [
      "0 0 0 0\n",
      "0 0 0 0\n",
      "0 0 0 0\n",
      "0 0 0 0\n",
      "\n"
     ]
    }
   ],
   "source": [
    "board = board_maker(len_queens)\n",
    "print_array(board)"
   ]
  },
  {
   "cell_type": "code",
   "execution_count": 526,
   "metadata": {},
   "outputs": [],
   "source": [
    "errors = []\n",
    "for row, line in enumerate(board) :\n",
    "    for col, num in enumerate(line) :\n",
    "        try :\n",
    "            check(row, col)\n",
    "        except :\n",
    "            errors.append((row, col))"
   ]
  },
  {
   "cell_type": "code",
   "execution_count": 525,
   "metadata": {},
   "outputs": [],
   "source": [
    "def check(row, col, n = len_queens) :\n",
    "    # y = x 방향 \n",
    "    # col을 0으로 만들고 시작\n",
    "    s_row, s_col = row, col\n",
    "    # 2, 3 -> 2, 3\n",
    "    # \n",
    "    if row != n - 1 and col != 0:\n",
    "        value = row - col if row >= col else col - row\n",
    "        s_row += value\n",
    "        s_col -= value\n",
    "    for i in range(n) :\n",
    "        if s_row < 0 or s_col == n :\n",
    "            break\n",
    "        if board[s_row][s_col] == 1 :\n",
    "            return False\n",
    "        s_row -= 1\n",
    "        s_col += 1\n",
    "    # y = -x 방향\n",
    "    # row를 0으로 만들고 시작\n",
    "    s_row, s_col = row, col\n",
    "    value = len_queens -1 - s_row if s_row > s_col else len_queens -1 -s_col\n",
    "    s_row += value\n",
    "    s_col += value\n",
    "    for i in range(s_row + 1 if s_row < s_col else s_col + 1) :\n",
    "        if board[s_row][s_col] == 1 :\n",
    "            return False\n",
    "        s_row -= 1\n",
    "        s_col -= 1\n",
    "    return True"
   ]
  },
  {
   "cell_type": "code",
   "execution_count": 521,
   "metadata": {},
   "outputs": [
    {
     "data": {
      "text/plain": [
       "False"
      ]
     },
     "execution_count": 521,
     "metadata": {},
     "output_type": "execute_result"
    }
   ],
   "source": [
    "2 != 4 - 1 and 0 != 0"
   ]
  },
  {
   "cell_type": "code",
   "execution_count": 519,
   "metadata": {},
   "outputs": [
    {
     "name": "stdout",
     "output_type": "stream",
     "text": [
      "4 -2\n"
     ]
    },
    {
     "ename": "IndexError",
     "evalue": "list index out of range",
     "output_type": "error",
     "traceback": [
      "\u001b[1;31m---------------------------------------------------------------------------\u001b[0m",
      "\u001b[1;31mIndexError\u001b[0m                                Traceback (most recent call last)",
      "Cell \u001b[1;32mIn[519], line 1\u001b[0m\n\u001b[1;32m----> 1\u001b[0m \u001b[43mcheck\u001b[49m\u001b[43m(\u001b[49m\u001b[38;5;241;43m2\u001b[39;49m\u001b[43m,\u001b[49m\u001b[43m \u001b[49m\u001b[38;5;241;43m0\u001b[39;49m\u001b[43m)\u001b[49m\n",
      "Cell \u001b[1;32mIn[518], line 15\u001b[0m, in \u001b[0;36mcheck\u001b[1;34m(row, col, n)\u001b[0m\n\u001b[0;32m     13\u001b[0m \u001b[38;5;28;01mif\u001b[39;00m s_row \u001b[38;5;241m<\u001b[39m \u001b[38;5;241m0\u001b[39m \u001b[38;5;129;01mor\u001b[39;00m s_col \u001b[38;5;241m==\u001b[39m n :\n\u001b[0;32m     14\u001b[0m     \u001b[38;5;28;01mbreak\u001b[39;00m\n\u001b[1;32m---> 15\u001b[0m \u001b[38;5;28;01mif\u001b[39;00m \u001b[43mboard\u001b[49m\u001b[43m[\u001b[49m\u001b[43ms_row\u001b[49m\u001b[43m]\u001b[49m[s_col] \u001b[38;5;241m==\u001b[39m \u001b[38;5;241m1\u001b[39m :\n\u001b[0;32m     16\u001b[0m     \u001b[38;5;28;01mreturn\u001b[39;00m \u001b[38;5;28;01mFalse\u001b[39;00m\n\u001b[0;32m     17\u001b[0m s_row \u001b[38;5;241m-\u001b[39m\u001b[38;5;241m=\u001b[39m \u001b[38;5;241m1\u001b[39m\n",
      "\u001b[1;31mIndexError\u001b[0m: list index out of range"
     ]
    }
   ],
   "source": [
    "check(2, 0)"
   ]
  }
 ],
 "metadata": {
  "kernelspec": {
   "display_name": "Python 3",
   "language": "python",
   "name": "python3"
  },
  "language_info": {
   "codemirror_mode": {
    "name": "ipython",
    "version": 3
   },
   "file_extension": ".py",
   "mimetype": "text/x-python",
   "name": "python",
   "nbconvert_exporter": "python",
   "pygments_lexer": "ipython3",
   "version": "3.11.2"
  }
 },
 "nbformat": 4,
 "nbformat_minor": 2
}
