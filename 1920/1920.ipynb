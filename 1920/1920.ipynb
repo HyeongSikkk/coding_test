{
 "cells": [
  {
   "cell_type": "code",
   "execution_count": 10,
   "metadata": {},
   "outputs": [],
   "source": [
    "N = int(input())\n",
    "n_arr = list(map(int, input().split(' ')))\n",
    "M = int(input())\n",
    "m_arr = list(map(int, input().split(' ')))"
   ]
  },
  {
   "cell_type": "code",
   "execution_count": 10,
   "metadata": {},
   "outputs": [],
   "source": [
    "class Binary_tree :\n",
    "    def __init__(self, arr) :\n",
    "        self.arr = arr\n",
    "        self.head = None\n",
    "        self.cur = None\n",
    "        self.make_nodes()\n",
    "    \n",
    "    def make_nodes(self) :\n",
    "        for value in self.arr :\n",
    "            self.append(value)\n",
    "            \n",
    "    def append(self, value) :\n",
    "        if self.head == None :\n",
    "            self.head = Node(value)\n",
    "            self.cur = self.head\n",
    "        else :\n",
    "            # 값이 현재 노드보다 큰 경우\n",
    "            if self.cur.value < value :\n",
    "                if self.cur.right == None :\n",
    "                    self.cur.right = Node(value)\n",
    "                    self.cur = self.head\n",
    "                else :\n",
    "                    self.cur = self.cur.right\n",
    "                    self.append(value)\n",
    "            # 값이 현재 노드보다 작은 경우\n",
    "            else :\n",
    "                if self.cur.left == None :\n",
    "                    self.cur.left = Node(value)\n",
    "                    self.cur = self.head\n",
    "                else :\n",
    "                    self.cur = self.cur.left\n",
    "                    self.append(value)\n",
    "    \n",
    "    def find(self, value) :\n",
    "        # 값을 찾은 경우\n",
    "        if self.cur.value == value :\n",
    "            print('1')\n",
    "            self.cur = self.head\n",
    "        \n",
    "        # 값을 찾아야 하는 경우\n",
    "        else :\n",
    "            # 현재 노드보다 값이 큰 경우\n",
    "            if self.cur.value < value :\n",
    "                if self.cur.right == None :\n",
    "                    print('0')\n",
    "                    self.cur = self.head\n",
    "                else :\n",
    "                    self.cur = self.cur.right\n",
    "                    self.find(value)\n",
    "            \n",
    "            # 현재 노드보다 값이 작은 경우\n",
    "            else :\n",
    "                if self.cur.left == None :\n",
    "                    print('0')\n",
    "                    self.cur = self.head\n",
    "                else :\n",
    "                    self.cur = self.cur.left\n",
    "                    self.find(value)\n",
    "                \n",
    "class Node :\n",
    "    def __init__(self, value) :\n",
    "        self.value = value\n",
    "        self.left = None\n",
    "        self.right = None"
   ]
  },
  {
   "cell_type": "code",
   "execution_count": 11,
   "metadata": {},
   "outputs": [],
   "source": [
    "n_arr = [10, 5, 2, 3, 4, 1, 6]"
   ]
  },
  {
   "cell_type": "code",
   "execution_count": 13,
   "metadata": {},
   "outputs": [],
   "source": [
    "def node_to_list(node) :\n",
    "    left, right = [], []\n",
    "    if node.left != None :\n",
    "        left = node_to_list(node.left)\n",
    "    value = node.value\n",
    "    if node.right != None :\n",
    "        right = node_to_list(node.right)\n",
    "    return [*left, value, *right]\n",
    "\n",
    "new_arr = []\n",
    "def re_array(array) :\n",
    "    length = len(array)\n",
    "    if length == 0 :\n",
    "        return \n",
    "    else :\n",
    "        index = length // 2\n",
    "        new_arr.append(array[index])\n",
    "        re_array([*array[:index]])\n",
    "        re_array([*array[index+1:]])\n",
    "\n",
    "b = Binary_tree(n_arr)\n",
    "sorted_arr = node_to_list(b.head)\n",
    "re_array(sorted_arr)"
   ]
  },
  {
   "cell_type": "code",
   "execution_count": 5,
   "metadata": {},
   "outputs": [],
   "source": [
    "new_arr = []\n",
    "def re_array(array) :\n",
    "    length = len(array)\n",
    "    if length == 0 :\n",
    "        return \n",
    "    else :\n",
    "        print(array)\n",
    "        index = length // 2\n",
    "        new_arr.append(array[index])\n",
    "        re_array([*array[:index]])\n",
    "        re_array([*array[index+1:]])"
   ]
  },
  {
   "cell_type": "code",
   "execution_count": 14,
   "metadata": {},
   "outputs": [
    {
     "data": {
      "text/plain": [
       "[4, 2, 1, 3, 6, 5, 10]"
      ]
     },
     "execution_count": 14,
     "metadata": {},
     "output_type": "execute_result"
    }
   ],
   "source": [
    "new_arr"
   ]
  }
 ],
 "metadata": {
  "kernelspec": {
   "display_name": "Python 3",
   "language": "python",
   "name": "python3"
  },
  "language_info": {
   "codemirror_mode": {
    "name": "ipython",
    "version": 3
   },
   "file_extension": ".py",
   "mimetype": "text/x-python",
   "name": "python",
   "nbconvert_exporter": "python",
   "pygments_lexer": "ipython3",
   "version": "3.11.6"
  }
 },
 "nbformat": 4,
 "nbformat_minor": 2
}
