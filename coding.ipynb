{
 "cells": [
  {
   "cell_type": "code",
   "execution_count": 230,
   "metadata": {},
   "outputs": [],
   "source": [
    "arr = [[1,1,0,0],[1,0,0,0],[1,0,0,1],[1,1,1,1]]\n",
    "arr = [[1,1,1,1,1,1,1,1],[0,1,1,1,1,1,1,1],[0,0,0,0,1,1,1,1],[0,1,0,0,1,1,1,1],[0,0,0,0,0,0,1,1],[0,0,0,0,0,0,0,1],[0,0,0,0,1,0,0,1],[0,0,0,0,1,1,1,1]]"
   ]
  },
  {
   "cell_type": "code",
   "execution_count": 231,
   "metadata": {},
   "outputs": [],
   "source": [
    "def solution(arr) :\n",
    "    total = [0, 0]\n",
    "    def quad_split(arr) :\n",
    "        length = len(arr)\n",
    "        if length == 1 :\n",
    "                total[arr[0][0]] += 1\n",
    "        else :\n",
    "            all_cnt = (length//2)**2\n",
    "            area1, area2, area3, area4 = [], [], [], []\n",
    "            areas = [area1, area2, area3, area4]\n",
    "            area1_cnt, area2_cnt, area3_cnt, area4_cnt = {0:0, 1:0}, {0:0, 1:0}, {0:0, 1:0}, {0:0, 1:0}\n",
    "            for idx, line in enumerate(arr) :\n",
    "                # 0, 1, 2, 3\n",
    "                if idx < length//2 :\n",
    "                    area1.append(line[:length//2])\n",
    "                    area2.append(line[length//2:])\n",
    "                else :\n",
    "                    area3.append(line[:length//2])\n",
    "                    area4.append(line[length//2:])\n",
    "                for col, num in enumerate(line) :\n",
    "                    if idx < length //2:\n",
    "                        if col < length//2 :\n",
    "                            area1_cnt[num] +=1\n",
    "                        else :\n",
    "                            area2_cnt[num] +=1\n",
    "                    else :\n",
    "                        if col < length//2 :\n",
    "                            area3_cnt[num] +=1\n",
    "                        else :\n",
    "                            area4_cnt[num] +=1\n",
    "            for index, cnt in enumerate([area1_cnt, area2_cnt, area3_cnt, area4_cnt]) :\n",
    "                for key, value in cnt.items() :\n",
    "                    if value == all_cnt :\n",
    "                        areas[index] = [[key]]\n",
    "            for area in areas :\n",
    "                quad_split(area)\n",
    "    quad_split(arr)\n",
    "    return total"
   ]
  },
  {
   "cell_type": "code",
   "execution_count": 232,
   "metadata": {},
   "outputs": [
    {
     "name": "stdout",
     "output_type": "stream",
     "text": [
      "8\n",
      "[[1, 1, 1, 1], [1, 1, 1, 1], [1, 1, 1, 1], [1, 1, 1, 1]]\n",
      "8\n",
      "[[0, 0, 0, 0], [0, 0, 0, 0], [0, 0, 0, 0], [0, 0, 0, 0]]\n",
      "4\n",
      "[[1, 1], [1, 1]]\n",
      "4\n",
      "[[0, 0], [0, 0]]\n",
      "2\n",
      "[[1]]\n",
      "2\n",
      "[[1]]\n",
      "2\n",
      "[[0]]\n",
      "2\n",
      "[[1]]\n",
      "2\n",
      "[[0]]\n",
      "2\n",
      "[[0]]\n",
      "2\n",
      "[[0]]\n",
      "2\n",
      "[[1]]\n",
      "4\n",
      "[[0, 0], [0, 0]]\n",
      "2\n",
      "[[1]]\n",
      "2\n",
      "[[1]]\n",
      "2\n",
      "[[0]]\n",
      "2\n",
      "[[1]]\n",
      "2\n",
      "[[1]]\n",
      "2\n",
      "[[0]]\n",
      "2\n",
      "[[1]]\n",
      "2\n",
      "[[1]]\n",
      "2\n",
      "[[0]]\n",
      "2\n",
      "[[1]]\n",
      "2\n",
      "[[1]]\n",
      "2\n",
      "[[1]]\n"
     ]
    },
    {
     "data": {
      "text/plain": [
       "[10, 15]"
      ]
     },
     "execution_count": 232,
     "metadata": {},
     "output_type": "execute_result"
    }
   ],
   "source": [
    "solution(arr)"
   ]
  }
 ],
 "metadata": {
  "kernelspec": {
   "display_name": "Python 3",
   "language": "python",
   "name": "python3"
  },
  "language_info": {
   "codemirror_mode": {
    "name": "ipython",
    "version": 3
   },
   "file_extension": ".py",
   "mimetype": "text/x-python",
   "name": "python",
   "nbconvert_exporter": "python",
   "pygments_lexer": "ipython3",
   "version": "3.11.2"
  }
 },
 "nbformat": 4,
 "nbformat_minor": 2
}
