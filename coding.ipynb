{
 "cells": [
  {
   "cell_type": "code",
   "execution_count": 1,
   "metadata": {},
   "outputs": [],
   "source": [
    "targets = [\n",
    "    [4, 5],\n",
    "    [4, 8],\n",
    "    [10, 14],\n",
    "    [11, 13],\n",
    "    [5, 12],\n",
    "    [3, 7],\n",
    "    [1, 4],\n",
    "]"
   ]
  },
  {
   "cell_type": "code",
   "execution_count": 18,
   "metadata": {},
   "outputs": [],
   "source": [
    "class BinaryTree :\n",
    "    def __init__(self, targets) :\n",
    "        self.targets = targets\n",
    "        self.head = None\n",
    "        self.cur = None\n",
    "        for arr in targets :\n",
    "            self.append(arr)\n",
    "        \n",
    "    def append(self, arr) :\n",
    "        if self.head == None :\n",
    "            self.head = Node(arr)\n",
    "            self.cur = self.head\n",
    "            \n",
    "        else :\n",
    "            # 노드의 값보다 더 큰 경우\n",
    "            if self.cur.value < arr[0] :\n",
    "                if self.cur.right == None :\n",
    "                    self.cur.right = Node(arr)\n",
    "                    self.cur = self.head\n",
    "                \n",
    "                else :\n",
    "                    self.cur = self.cur.right\n",
    "                    self.append(arr)\n",
    "            else :\n",
    "                if self.cur.left == None :\n",
    "                    self.cur.left = Node(arr)\n",
    "                    self.cur = self.head\n",
    "                else :\n",
    "                    self.cur = self.cur.left\n",
    "                    self.append(arr)\n",
    "\n",
    "class Node :\n",
    "    def __init__(self, arr) :\n",
    "        self.arr = arr\n",
    "        self.value = arr[0]\n",
    "        self.left = None\n",
    "        self.right = None\n",
    "\n",
    "def node_to_list(node) :\n",
    "    left, middle, right = [], [], []\n",
    "    if node.left != None :\n",
    "        left = node_to_list(node.left)\n",
    "    middle.append(node.arr)\n",
    "    if node.right != None :\n",
    "        right = node_to_list(node.right)\n",
    "    return [*left, *middle, *right]"
   ]
  },
  {
   "cell_type": "code",
   "execution_count": 19,
   "metadata": {},
   "outputs": [],
   "source": [
    "b = BinaryTree(targets)"
   ]
  },
  {
   "cell_type": "code",
   "execution_count": 22,
   "metadata": {},
   "outputs": [],
   "source": [
    "float_dict = {}\n",
    "for ran in node_to_list(b.head) :\n",
    "    a, b = ran\n",
    "    for num in range(a, b) :\n",
    "        num += 0.5\n",
    "        if num in float_dict :\n",
    "            float_dict[num] += 1\n",
    "        else :\n",
    "            float_dict[num] = 1\n",
    "    "
   ]
  },
  {
   "cell_type": "code",
   "execution_count": 23,
   "metadata": {},
   "outputs": [
    {
     "data": {
      "text/plain": [
       "{1.5: 1,\n",
       " 2.5: 1,\n",
       " 3.5: 2,\n",
       " 4.5: 3,\n",
       " 5.5: 3,\n",
       " 6.5: 3,\n",
       " 7.5: 2,\n",
       " 8.5: 1,\n",
       " 9.5: 1,\n",
       " 10.5: 2,\n",
       " 11.5: 3,\n",
       " 12.5: 2,\n",
       " 13.5: 1}"
      ]
     },
     "execution_count": 23,
     "metadata": {},
     "output_type": "execute_result"
    }
   ],
   "source": [
    "float_dict"
   ]
  },
  {
   "cell_type": "code",
   "execution_count": null,
   "metadata": {},
   "outputs": [],
   "source": [
    "1.5, 2.5, 3.5\n",
    "3.5, 4.5, 5.5, 6.5\n",
    "4.5, 5.5, 6.5, 7.5\n",
    "4.5\n",
    "5.5, 6.5, 7.5, 8.5, 9.5, 10.5, 11.5\n",
    "10.5, 11.5, 12.5, 13.5\n",
    "11.5, 12.5"
   ]
  }
 ],
 "metadata": {
  "kernelspec": {
   "display_name": "Python 3",
   "language": "python",
   "name": "python3"
  },
  "language_info": {
   "codemirror_mode": {
    "name": "ipython",
    "version": 3
   },
   "file_extension": ".py",
   "mimetype": "text/x-python",
   "name": "python",
   "nbconvert_exporter": "python",
   "pygments_lexer": "ipython3",
   "version": "3.11.2"
  }
 },
 "nbformat": 4,
 "nbformat_minor": 2
}
