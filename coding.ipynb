{
 "cells": [
  {
   "cell_type": "code",
   "execution_count": 40,
   "metadata": {},
   "outputs": [],
   "source": [
    "land = [\n",
    "    [0, 0, 0, 1, 1, 1, 0, 0], \n",
    "    [0, 0, 0, 0, 1, 1, 0, 0], \n",
    "    [1, 1, 0, 0, 0, 1, 1, 0], \n",
    "    [1, 1, 1, 0, 0, 0, 0, 0], \n",
    "    [1, 1, 1, 0, 0, 0, 1, 1],\n",
    "]"
   ]
  },
  {
   "cell_type": "code",
   "execution_count": 36,
   "metadata": {},
   "outputs": [
    {
     "name": "stdout",
     "output_type": "stream",
     "text": [
      "0 3\n",
      "2 0\n",
      "4 6\n"
     ]
    }
   ],
   "source": [
    "cols = {i : 0 for i in range(len(land[0]))}\n",
    "class Gas :\n",
    "    def __init__(self) :\n",
    "        self.value = 0\n",
    "        self.min_col = len(land[0])\n",
    "        self.max_col = 0\n",
    "    \n",
    "    def add(self) :\n",
    "        self.value += 1\n",
    "    \n",
    "    def record_col(self, col) :\n",
    "        if self.min_col > col :\n",
    "            self.min_col = col\n",
    "        if self.max_col < col :\n",
    "            self.max_col = col\n",
    "    \n",
    "    def report(self) :\n",
    "        for col in range(self.min_col, self.max_col+1) :\n",
    "            cols[col] += self.value\n",
    "        \n",
    "def out_gas(row, col, g) :\n",
    "    if row >= len(land) or col >= len(land[0]) or row < 0 or col < 0 :\n",
    "        return\n",
    "    if land[row][col] == 1 :\n",
    "        land[row][col] = 0\n",
    "        g.add()\n",
    "        g.record_col(col)\n",
    "        out_gas(row+1, col, g)\n",
    "        out_gas(row-1, col, g)\n",
    "        out_gas(row, col+1, g)\n",
    "        out_gas(row, col-1, g)\n",
    "    \n",
    "    \n",
    "for row, line in enumerate(land) :\n",
    "    for col, gas in enumerate(line) :\n",
    "        if gas == 1 :\n",
    "            print(row, col)\n",
    "            g = Gas()\n",
    "            out_gas(row, col, g)\n",
    "            g.report()"
   ]
  },
  {
   "cell_type": "code",
   "execution_count": 93,
   "metadata": {},
   "outputs": [],
   "source": [
    "def solution(land) :\n",
    "    start = time.time()\n",
    "    cols = {i : 0 for i in range(len(land[0]))}\n",
    "    class Gas :\n",
    "        def __init__(self) :\n",
    "            self.value = 0\n",
    "            self.min_col = len(land[0])\n",
    "            self.max_col = 0\n",
    "        \n",
    "        def add(self) :\n",
    "            self.value += 1\n",
    "        \n",
    "        def record_col(self, col) :\n",
    "            if self.min_col > col :\n",
    "                self.min_col = col\n",
    "            if self.max_col < col :\n",
    "                self.max_col = col\n",
    "        \n",
    "        def report(self) :\n",
    "            for col in range(self.min_col, self.max_col+1) :\n",
    "                cols[col] += self.value\n",
    "            \n",
    "    def out_gas(row, col, g) :\n",
    "        if row >= len(land) or col >= len(land[0]) or row < 0 or col < 0 :\n",
    "            return\n",
    "        if land[row][col] == 1 :\n",
    "            land[row][col] = 0\n",
    "            g.add()\n",
    "            g.record_col(col)\n",
    "            out_gas(row+1, col, g)\n",
    "            out_gas(row-1, col, g)\n",
    "            out_gas(row, col+1, g)\n",
    "            out_gas(row, col-1, g)\n",
    "        \n",
    "        \n",
    "    for row, line in enumerate(land) :\n",
    "        for col, gas in enumerate(line) :\n",
    "            if gas == 1 :\n",
    "                g = Gas()\n",
    "                out_gas(row, col, g)\n",
    "                g.report()\n",
    "    end = time.time()\n",
    "    print(round(end - start, 4))\n",
    "    return max(cols.values())"
   ]
  },
  {
   "cell_type": "code",
   "execution_count": 52,
   "metadata": {},
   "outputs": [],
   "source": [
    "import random"
   ]
  },
  {
   "cell_type": "code",
   "execution_count": 132,
   "metadata": {},
   "outputs": [],
   "source": [
    "def random_land(n) :\n",
    "    land = []\n",
    "    for i in range(500) :\n",
    "        random.seed(n+i)\n",
    "        land.append(random.choices([0, 1], k=500))\n",
    "    return land"
   ]
  }
 ],
 "metadata": {
  "kernelspec": {
   "display_name": "Python 3",
   "language": "python",
   "name": "python3"
  },
  "language_info": {
   "codemirror_mode": {
    "name": "ipython",
    "version": 3
   },
   "file_extension": ".py",
   "mimetype": "text/x-python",
   "name": "python",
   "nbconvert_exporter": "python",
   "pygments_lexer": "ipython3",
   "version": "3.11.2"
  }
 },
 "nbformat": 4,
 "nbformat_minor": 2
}
