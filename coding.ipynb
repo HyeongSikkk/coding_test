{
 "cells": [
  {
   "cell_type": "code",
   "execution_count": 1,
   "metadata": {},
   "outputs": [],
   "source": [
    "from coding_test_manager import manager"
   ]
  },
  {
   "cell_type": "code",
   "execution_count": 2,
   "metadata": {},
   "outputs": [],
   "source": [
    "url = 'https://www.acmicpc.net/problem/14503'\n",
    "m = manager(url)"
   ]
  },
  {
   "cell_type": "code",
   "execution_count": 9,
   "metadata": {},
   "outputs": [
    {
     "name": "stdout",
     "output_type": "stream",
     "text": [
      "기댓값\n",
      "1\n",
      "결과괎\n",
      "1\n",
      "성공\n",
      "기댓값\n",
      "57\n",
      "결과괎\n",
      "57\n",
      "성공\n"
     ]
    }
   ],
   "source": [
    "m.do_test(\"C:/workspace/coding_test/baekjoon/14503/14503.py\")"
   ]
  },
  {
   "cell_type": "code",
   "execution_count": 6,
   "metadata": {},
   "outputs": [],
   "source": [
    "import subprocess"
   ]
  },
  {
   "cell_type": "code",
   "execution_count": 8,
   "metadata": {},
   "outputs": [
    {
     "name": "stdout",
     "output_type": "stream",
     "text": [
      "기댓값\n",
      "1\n",
      "결과괎\n",
      "1\n",
      "성공\n",
      "기댓값\n",
      "57\n",
      "결과괎\n",
      "57\n",
      "성공\n"
     ]
    }
   ],
   "source": [
    "file_path = \"C:/workspace/coding_test/baekjoon/14503/14503.py\"\n",
    "cmd = f\"python {file_path}\"\n",
    "for test_case in m._test_cases :\n",
    "    sample_input, sample_output = test_case.values()\n",
    "    result = subprocess.run(cmd, input = sample_input, text = True, capture_output=True)\n",
    "    print(f\"기댓값\\n{sample_output.strip()}\\n결과괎\\n{result.stdout.strip()}\\n{'성공' if sample_output.strip() == result.stdout.strip() else '실패'}\")"
   ]
  },
  {
   "cell_type": "code",
   "execution_count": 20,
   "metadata": {},
   "outputs": [
    {
     "name": "stdout",
     "output_type": "stream",
     "text": [
      "[['1', '1', '1'], ['1', '0', '1'], ['1', '1', '1']]\n",
      "1\n"
     ]
    }
   ],
   "source": [
    "map_size = input().strip().split(' ')\n",
    "position_status = input().strip()\n",
    "r, c, d = list(map(int, position_status.split(' ')))\n",
    "\n",
    "row_size, col_size = list(map(int, map_size))\n",
    "\n",
    "room = []\n",
    "for _ in range(row_size) :\n",
    "    room.append(input().strip().split(' '))\n",
    "cnt = 0\n",
    "while True :\n",
    "    if room[r][c] == '0' :\n",
    "        room[r][c] = 'cleaned'\n",
    "        cnt += 1\n",
    "    \n",
    "    not_find = True\n",
    "    for fr, fc in zip([1, -1, 0, 0], [0, 0, 1, -1]) :\n",
    "        if 0<= r+fr <= row_size-1 and 0 <= c + fc <= col_size-1 :\n",
    "            if room[r+fr][c+fc] == '0' :\n",
    "                not_find = False\n",
    "                d -= 1\n",
    "                if d < 0 :\n",
    "                    d = 3\n",
    "                \n",
    "                if d == 0 :\n",
    "                    if r-1 >= 0 :\n",
    "                        if room[r-1][c] == '0' :\n",
    "                            r -= 1\n",
    "                elif d == 2 :\n",
    "                    if row_size > r+1 :\n",
    "                        if room[r+1][c] == '0' :\n",
    "                            r += 1\n",
    "                elif d == 1 :\n",
    "                    if col_size > c+1 :\n",
    "                        if room[r][c+1] == '0' :\n",
    "                            c += 1\n",
    "                else :\n",
    "                    if c-1 > 0 :\n",
    "                        if room[r][c-1] == '0' :\n",
    "                            c -= 1\n",
    "                break\n",
    "                        \n",
    "    if not_find :\n",
    "        if d == 0 :\n",
    "            if room[r+1][c] == '1' :\n",
    "                break\n",
    "            r += 1\n",
    "        elif d == 1 :\n",
    "            if room[r][c-1] == '1' :\n",
    "                break\n",
    "            c -= 1\n",
    "        elif d == 2 :\n",
    "            if room[r-1][c] == '1' :\n",
    "                break\n",
    "            r -= 1\n",
    "        else : # d == 3\n",
    "            if room[r][c+1] == '1' :\n",
    "                break\n",
    "            c += 1\n",
    "print(cnt)"
   ]
  }
 ],
 "metadata": {
  "kernelspec": {
   "display_name": "Python 3",
   "language": "python",
   "name": "python3"
  },
  "language_info": {
   "codemirror_mode": {
    "name": "ipython",
    "version": 3
   },
   "file_extension": ".py",
   "mimetype": "text/x-python",
   "name": "python",
   "nbconvert_exporter": "python",
   "pygments_lexer": "ipython3",
   "version": "3.11.8"
  }
 },
 "nbformat": 4,
 "nbformat_minor": 2
}
