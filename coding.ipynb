{
 "cells": [
  {
   "cell_type": "code",
   "execution_count": 2,
   "metadata": {},
   "outputs": [],
   "source": [
    "from coding_test_manager import manager"
   ]
  },
  {
   "cell_type": "code",
   "execution_count": 3,
   "metadata": {},
   "outputs": [],
   "source": [
    "url = 'https://www.acmicpc.net/problem/2644'\n",
    "m = manager(url)"
   ]
  },
  {
   "cell_type": "code",
   "execution_count": 4,
   "metadata": {},
   "outputs": [
    {
     "name": "stdout",
     "output_type": "stream",
     "text": [
      "기댓값\n",
      "3\n",
      "결과괎\n",
      "3\n",
      "성공\n",
      "기댓값\n",
      "-1\n",
      "결과괎\n",
      "-1\n",
      "성공\n"
     ]
    }
   ],
   "source": [
    "m.do_test('C:/workspace/coding_test/baekjoon/2644/2644.py')"
   ]
  },
  {
   "cell_type": "code",
   "execution_count": null,
   "metadata": {},
   "outputs": [],
   "source": [
    "class Node :\n",
    "    def __init__(self,value) :\n",
    "        self.value = value\n",
    "        self.parent = None\n",
    "        self.children = []"
   ]
  },
  {
   "cell_type": "code",
   "execution_count": 79,
   "metadata": {},
   "outputs": [
    {
     "name": "stdout",
     "output_type": "stream",
     "text": [
      "3\n",
      "-1\n"
     ]
    },
    {
     "ename": "",
     "evalue": "",
     "output_type": "error",
     "traceback": [
      "\u001b[1;31m현재 셀 또는 이전 셀에서 코드를 실행하는 동안 Kernel이 충돌했습니다. \n",
      "\u001b[1;31m셀의 코드를 검토하여 가능한 오류 원인을 식별하세요. \n",
      "\u001b[1;31m자세한 내용을 보려면 <a href='https://aka.ms/vscodeJupyterKernelCrash'>여기</a>를 클릭하세요. \n",
      "\u001b[1;31m자세한 내용은 Jupyter <a href='command:jupyter.viewOutput'>로그</a>를 참조하세요."
     ]
    }
   ],
   "source": [
    "class Node :\n",
    "    def __init__(self,value) :\n",
    "        self.value = value\n",
    "        self.parent = None\n",
    "        self.children = []\n",
    "\n",
    "len_people = int(input().strip())\n",
    "a, b = input().strip().split(' ')\n",
    "cnt = int(input().strip())\n",
    "peoples= {}\n",
    "for _ in range(cnt) :\n",
    "    par, child = input().strip().split(' ')\n",
    "    if par not in peoples :\n",
    "        peoples[par] = Node(par)\n",
    "    par_node = peoples[par]\n",
    "    if child not in peoples :\n",
    "        peoples[child] = Node(child)\n",
    "    child_node = peoples[child]\n",
    "    par_node.children.append(child_node)\n",
    "    child_node.parent = par_node\n",
    "searched = set()\n",
    "def dfs(n, cur) :\n",
    "    if cur.value == b :\n",
    "        print(n)\n",
    "        exit()\n",
    "    people = []\n",
    "    if cur.parent is not None :\n",
    "        people.append(cur.parent)\n",
    "    people += cur.children\n",
    "    roads = []\n",
    "    for who in people :\n",
    "        if who not in searched :\n",
    "            roads.append(who)\n",
    "            searched.add(who)\n",
    "    for man in roads :\n",
    "        dfs(n+1, man)\n",
    "dfs(0, peoples[a])\n",
    "print(-1)\n",
    "        "
   ]
  }
 ],
 "metadata": {
  "kernelspec": {
   "display_name": "Python 3",
   "language": "python",
   "name": "python3"
  },
  "language_info": {
   "codemirror_mode": {
    "name": "ipython",
    "version": 3
   },
   "file_extension": ".py",
   "mimetype": "text/x-python",
   "name": "python",
   "nbconvert_exporter": "python",
   "pygments_lexer": "ipython3",
   "version": "3.11.8"
  }
 },
 "nbformat": 4,
 "nbformat_minor": 2
}
