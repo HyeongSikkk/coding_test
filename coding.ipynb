{
 "cells": [
  {
   "cell_type": "code",
   "execution_count": 1,
   "metadata": {},
   "outputs": [],
   "source": [
    "from coding_test_manager import manager"
   ]
  },
  {
   "cell_type": "code",
   "execution_count": 2,
   "metadata": {},
   "outputs": [],
   "source": [
    "url = 'https://school.programmers.co.kr/learn/courses/30/lessons/181188'\n",
    "m = manager(url)"
   ]
  },
  {
   "cell_type": "code",
   "execution_count": 39,
   "metadata": {},
   "outputs": [],
   "source": [
    "row = {\n",
    "    'targets' : [[0,1],[1,2],[2,3],[3,4],[4,5],[5,6]],\n",
    "    'result' : 6\n",
    "}\n",
    "m._test_cases.append(row)"
   ]
  },
  {
   "cell_type": "code",
   "execution_count": 34,
   "metadata": {},
   "outputs": [],
   "source": [
    "def solution(targets) :\n",
    "    class Node :\n",
    "        def __init__(self, widths) :\n",
    "            self.start, self.end = widths\n",
    "            self.left = None\n",
    "            self.middle = None\n",
    "            self.right = None\n",
    "\n",
    "    class TargetTree :\n",
    "        def __init__(self) :\n",
    "            self.head = None\n",
    "            self.cnt = 0\n",
    "\n",
    "        def link_target(self, widths) :\n",
    "            if self.head is None :\n",
    "                self.head = Node(widths)\n",
    "                self.cnt += 1\n",
    "\n",
    "            else :\n",
    "                nodes = [self.head]\n",
    "                while nodes :\n",
    "                    n = nodes.pop()\n",
    "                    # 범위가 통하는 경우\n",
    "                    if n.start < widths[1] and n.start >= widths[0] :\n",
    "                        if n.middle is None :\n",
    "                            n.middle = [Node(widths)]\n",
    "                        else :\n",
    "                            n.middle.append(Node(widths))\n",
    "\n",
    "                    # 값이 더 큰 경우\n",
    "                    elif n.end <= widths[0] :\n",
    "                        if n.right is None :\n",
    "                            n.right = Node(widths)\n",
    "                            self.cnt += 1\n",
    "                        else :\n",
    "                            nodes.append(n.right)\n",
    "                    # 값이 더 작은 경우\n",
    "                    else :\n",
    "                        if n.left is None :\n",
    "                            n.left = Node(widths)\n",
    "                            self.cnt += 1\n",
    "                        else :\n",
    "                            nodes.append(n.left)\n",
    "    targets.sort(key = lambda x : x[1] - x[0])\n",
    "    t = TargetTree()\n",
    "    for target in targets :\n",
    "        t.link_target(target)\n",
    "    return t.cnt"
   ]
  },
  {
   "cell_type": "code",
   "execution_count": 86,
   "metadata": {},
   "outputs": [],
   "source": [
    "def solution(targets) :\n",
    "    class Node :\n",
    "        def __init__(self, widths) :\n",
    "            self.start, self.end = widths\n",
    "            self.left = None\n",
    "            self.middle = None\n",
    "            self.right = None\n",
    "\n",
    "    class TargetTree :\n",
    "        def __init__(self) :\n",
    "            self.head = None\n",
    "            self.cnt = 0\n",
    "\n",
    "        def link_target(self, widths) :\n",
    "            if self.head is None :\n",
    "                self.head = Node(widths)\n",
    "                self.cnt += 1\n",
    "\n",
    "            else :\n",
    "                nodes = [self.head]\n",
    "                while nodes :\n",
    "                    n = nodes.pop()\n",
    "                    # 범위가 통하는 경우\n",
    "                    if n.start < widths[1] and n.end > widths[0] :\n",
    "                        if n.middle is None :\n",
    "                            n.middle = [Node(widths)]\n",
    "                        else :\n",
    "                            n.middle.append(Node(widths))\n",
    "\n",
    "                    # 값이 더 큰 경우\n",
    "                    elif n.end <= widths[0] :\n",
    "                        if n.right is None :\n",
    "                            n.right = Node(widths)\n",
    "                            self.cnt += 1\n",
    "                        else :\n",
    "                            nodes.append(n.right)\n",
    "                    # 값이 더 작은 경우\n",
    "                    else :\n",
    "                        if n.left is None :\n",
    "                            n.left = Node(widths)\n",
    "                            self.cnt += 1\n",
    "                        else :\n",
    "                            nodes.append(n.left)\n",
    "    targets.sort(key = lambda x : x[1] - x[0])\n",
    "    t = TargetTree()\n",
    "    for target in targets :\n",
    "        t.link_target(target)\n",
    "    return t.cnt"
   ]
  },
  {
   "cell_type": "markdown",
   "metadata": {},
   "source": [
    "abcd\n",
    " abcd\n",
    "\n",
    "abcdefg\n",
    " abcd\n",
    "\n",
    " abcdefg\n",
    "abcde\n",
    "\n",
    "     abcd\n",
    "abc\n",
    "\n",
    "abcd\n",
    "     abc"
   ]
  },
  {
   "cell_type": "code",
   "execution_count": 80,
   "metadata": {},
   "outputs": [],
   "source": [
    "t = TargetTree()\n",
    "targets = [[1,2],[2,4],[5, 9],[3,7],[2,11]]\n",
    "targets.sort(key = lambda x : x[1] - x[0])\n",
    "for target in targets :\n",
    "    t.link_target(target)"
   ]
  },
  {
   "cell_type": "code",
   "execution_count": 85,
   "metadata": {},
   "outputs": [
    {
     "name": "stdout",
     "output_type": "stream",
     "text": [
      "[<__main__.solution.<locals>.Node object at 0x0000029848BF3950>] 7 8\n",
      "[<__main__.solution.<locals>.Node object at 0x0000029848BF3950>] 7 8\n",
      "[<__main__.solution.<locals>.Node object at 0x0000029848D06E90>] 6 7\n",
      "[<__main__.solution.<locals>.Node object at 0x0000029848BF3950>] 7 8\n",
      "[<__main__.solution.<locals>.Node object at 0x0000029848BF3950>] 7 8\n",
      "[<__main__.solution.<locals>.Node object at 0x0000029848D06E90>] 6 7\n",
      "[<__main__.solution.<locals>.Node object at 0x0000029848C8C510>] 2 4\n",
      "[<__main__.solution.<locals>.Node object at 0x0000029848BF3950>] 7 8\n",
      "[<__main__.solution.<locals>.Node object at 0x0000029848BF3950>] 7 8\n",
      "[<__main__.solution.<locals>.Node object at 0x0000029848BF3950>] 7 8\n",
      "[<__main__.solution.<locals>.Node object at 0x0000029848BF3950>] 7 8\n"
     ]
    },
    {
     "data": {
      "text/plain": [
       "4"
      ]
     },
     "execution_count": 85,
     "metadata": {},
     "output_type": "execute_result"
    }
   ],
   "source": [
    "solution([[7, 8], [2, 9], [6, 9], [4, 12], [9, 13], [6, 7], [3, 8], [3, 6], [2, 4]])"
   ]
  }
 ],
 "metadata": {
  "kernelspec": {
   "display_name": "Python 3",
   "language": "python",
   "name": "python3"
  },
  "language_info": {
   "codemirror_mode": {
    "name": "ipython",
    "version": 3
   },
   "file_extension": ".py",
   "mimetype": "text/x-python",
   "name": "python",
   "nbconvert_exporter": "python",
   "pygments_lexer": "ipython3",
   "version": "3.11.8"
  }
 },
 "nbformat": 4,
 "nbformat_minor": 2
}
