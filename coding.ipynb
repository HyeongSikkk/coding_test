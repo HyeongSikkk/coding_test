{
 "cells": [
  {
   "cell_type": "code",
   "execution_count": 2,
   "metadata": {},
   "outputs": [],
   "source": [
    "sequence = [2, 3, -6, 1, 3, -1, 2, 4]"
   ]
  },
  {
   "cell_type": "code",
   "execution_count": 5,
   "metadata": {},
   "outputs": [],
   "source": [
    "def solution(sequence) :\n",
    "    def calc(length, array) :\n",
    "        results = []\n",
    "        for start_idx in range(0, len(array) -length+1) :\n",
    "            purse = array[start_idx:start_idx+length]\n",
    "            plus, minus = 0, 0\n",
    "            for idx,num in enumerate(purse) :\n",
    "                plus += ((-1)**(idx))*num\n",
    "                minus += ((-1)**(idx+1))*num\n",
    "            results.append(plus if plus > minus else minus)\n",
    "        value = max(results)\n",
    "        return value\n",
    "\n",
    "\n",
    "    n = len(sequence)\n",
    "    max_value = 0\n",
    "    for i in range(1, n+1) :\n",
    "        value = calc(i, sequence) \n",
    "        if max_value < value :\n",
    "            max_value = value\n",
    "    return max_value"
   ]
  },
  {
   "cell_type": "code",
   "execution_count": 6,
   "metadata": {},
   "outputs": [
    {
     "data": {
      "text/plain": [
       "10"
      ]
     },
     "execution_count": 6,
     "metadata": {},
     "output_type": "execute_result"
    }
   ],
   "source": [
    "solution(sequence)"
   ]
  }
 ],
 "metadata": {
  "kernelspec": {
   "display_name": "Python 3",
   "language": "python",
   "name": "python3"
  },
  "language_info": {
   "codemirror_mode": {
    "name": "ipython",
    "version": 3
   },
   "file_extension": ".py",
   "mimetype": "text/x-python",
   "name": "python",
   "nbconvert_exporter": "python",
   "pygments_lexer": "ipython3",
   "version": "3.11.8"
  }
 },
 "nbformat": 4,
 "nbformat_minor": 2
}
