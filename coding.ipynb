{
 "cells": [
  {
   "cell_type": "code",
   "execution_count": 1,
   "metadata": {},
   "outputs": [],
   "source": [
    "wires = [[1,3],[2,3],[3,4],[4,5],[4,6],[4,7],[7,8],[7,9]]"
   ]
  },
  {
   "cell_type": "code",
   "execution_count": 6,
   "metadata": {},
   "outputs": [],
   "source": [
    "def solution(n, wires) :\n",
    "    class ElectroTree :\n",
    "        def __init__(self, wires) :\n",
    "            self.wires = wires\n",
    "            self.build()\n",
    "\n",
    "\n",
    "        def build(self) :\n",
    "            towers = {}\n",
    "            for wire in self.wires :\n",
    "                a, b = wire\n",
    "                if a in towers :\n",
    "                    node_a = towers[a]\n",
    "                else :\n",
    "                    node_a = Node(a)\n",
    "                    towers[a] = node_a\n",
    "\n",
    "                if b in towers :\n",
    "                    node_b = towers[b]\n",
    "                else :\n",
    "                    node_b = Node(b)\n",
    "                    towers[b] = node_b\n",
    "\n",
    "                node_a.connect(node_b)\n",
    "            self.towers = towers\n",
    "\n",
    "\n",
    "        def split_test(self) :\n",
    "            def count(node, links) :\n",
    "                links.add(node)\n",
    "                for n in node.link :\n",
    "                    if not n in links :\n",
    "                        count(n, links)\n",
    "                return links\n",
    "\n",
    "            min_value = len(self.wires)\n",
    "            for wire in self.wires :\n",
    "                a_link, b_link = set(), set()\n",
    "                a, b = wire\n",
    "                node_a, node_b = self.towers[a], self.towers[b]\n",
    "                node_a.disconnect(node_b)\n",
    "                a_link = count(node_a, a_link)\n",
    "                b_link = count(node_b, b_link)\n",
    "                len_a, len_b = len(a_link), len(b_link)\n",
    "                if len_b > len_a :\n",
    "                    len_a, len_b = len_b, len_a\n",
    "                value = len_a - len_b\n",
    "                if value < min_value :\n",
    "                    min_value = value\n",
    "                node_a.connect(node_b)\n",
    "            return min_value\n",
    "\n",
    "\n",
    "    class Node :\n",
    "        def __init__(self, area) :\n",
    "            self.area = area\n",
    "            self.link = None\n",
    "\n",
    "\n",
    "        def connect(self, other) :\n",
    "            if self.link == None :\n",
    "                self.link = [other]\n",
    "            else :\n",
    "                self.link.append(other)\n",
    "\n",
    "            if other.link == None :\n",
    "                other.link = [self]\n",
    "            else :\n",
    "                other.link.append(self)\n",
    "\n",
    "\n",
    "        def disconnect(self, other) :\n",
    "            self.link.remove(other)\n",
    "            other.link.remove(self)\n",
    "\n",
    "    t = ElectroTree(wires)\n",
    "    return t.split_test()\n"
   ]
  },
  {
   "cell_type": "code",
   "execution_count": 8,
   "metadata": {},
   "outputs": [
    {
     "data": {
      "text/plain": [
       "3"
      ]
     },
     "execution_count": 8,
     "metadata": {},
     "output_type": "execute_result"
    }
   ],
   "source": [
    "solution(9, wires)"
   ]
  }
 ],
 "metadata": {
  "kernelspec": {
   "display_name": "Python 3",
   "language": "python",
   "name": "python3"
  },
  "language_info": {
   "codemirror_mode": {
    "name": "ipython",
    "version": 3
   },
   "file_extension": ".py",
   "mimetype": "text/x-python",
   "name": "python",
   "nbconvert_exporter": "python",
   "pygments_lexer": "ipython3",
   "version": "3.11.6"
  }
 },
 "nbformat": 4,
 "nbformat_minor": 2
}
