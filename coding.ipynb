{
 "cells": [
  {
   "cell_type": "code",
   "execution_count": 1,
   "metadata": {},
   "outputs": [],
   "source": [
    "from coding_test_manager import manager"
   ]
  },
  {
   "cell_type": "code",
   "execution_count": 2,
   "metadata": {},
   "outputs": [],
   "source": [
    "url = 'https://www.acmicpc.net/problem/2178'\n",
    "m = manager(url)"
   ]
  },
  {
   "cell_type": "code",
   "execution_count": 3,
   "metadata": {},
   "outputs": [
    {
     "name": "stdout",
     "output_type": "stream",
     "text": [
      "기댓값\n",
      "15\n",
      "결과괎\n",
      "\n",
      "실패\n",
      "기댓값\n",
      "9\n",
      "결과괎\n",
      "\n",
      "실패\n",
      "기댓값\n",
      "38\n",
      "결과괎\n",
      "\n",
      "실패\n",
      "기댓값\n",
      "13\n",
      "결과괎\n",
      "\n",
      "실패\n"
     ]
    }
   ],
   "source": [
    "m.do_test(\"C:/workspace/coding_test/baekjoon/2178/2178.py\")"
   ]
  },
  {
   "cell_type": "code",
   "execution_count": 4,
   "metadata": {},
   "outputs": [
    {
     "name": "stdout",
     "output_type": "stream",
     "text": [
      "15\n"
     ]
    },
    {
     "ename": "",
     "evalue": "",
     "output_type": "error",
     "traceback": [
      "\u001b[1;31m현재 셀 또는 이전 셀에서 코드를 실행하는 동안 Kernel이 충돌했습니다. \n",
      "\u001b[1;31m셀의 코드를 검토하여 가능한 오류 원인을 식별하세요. \n",
      "\u001b[1;31m자세한 내용을 보려면 <a href='https://aka.ms/vscodeJupyterKernelCrash'>여기</a>를 클릭하세요. \n",
      "\u001b[1;31m자세한 내용은 Jupyter <a href='command:jupyter.viewOutput'>로그</a>를 참조하세요."
     ]
    }
   ],
   "source": [
    "rows, cols = list(map(int, input().strip().split(' ')))\n",
    "maps = []\n",
    "for _ in range(rows) :\n",
    "    maps.append(input().strip())\n",
    "maps = list(map(list, maps))\n",
    "def solver(n, position) :\n",
    "    r, c = position\n",
    "    if r == rows-1 and c == cols-1 :\n",
    "        print(n)\n",
    "        exit()\n",
    "    maps[r][c] = '0'\n",
    "    fore_casts = [\n",
    "        (1, 0),\n",
    "        (-1, 0),\n",
    "        (0, 1),\n",
    "        (0, -1),\n",
    "    ]\n",
    "    for fore_cast in fore_casts :\n",
    "        fr, fc = fore_cast\n",
    "        if 0 <= r+fr < rows and 0 <= c + fc < cols :\n",
    "            if maps[r+fr][c+fc] == '1' :\n",
    "                solver(n+1, (r+fr, c+fc))\n",
    "solver(1, (0, 0))"
   ]
  }
 ],
 "metadata": {
  "kernelspec": {
   "display_name": "Python 3",
   "language": "python",
   "name": "python3"
  },
  "language_info": {
   "codemirror_mode": {
    "name": "ipython",
    "version": 3
   },
   "file_extension": ".py",
   "mimetype": "text/x-python",
   "name": "python",
   "nbconvert_exporter": "python",
   "pygments_lexer": "ipython3",
   "version": "3.11.8"
  }
 },
 "nbformat": 4,
 "nbformat_minor": 2
}
