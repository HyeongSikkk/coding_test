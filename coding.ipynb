{
 "cells": [
  {
   "cell_type": "code",
   "execution_count": 1,
   "metadata": {},
   "outputs": [],
   "source": [
    "from coding_test_manager import manager"
   ]
  },
  {
   "cell_type": "code",
   "execution_count": 2,
   "metadata": {},
   "outputs": [],
   "source": [
    "url = 'https://www.acmicpc.net/problem/14503'\n",
    "m = manager(url)"
   ]
  },
  {
   "cell_type": "code",
   "execution_count": 13,
   "metadata": {},
   "outputs": [
    {
     "name": "stdout",
     "output_type": "stream",
     "text": [
      "기댓값\n",
      "1\n",
      "결과괎\n",
      "\n",
      "실패\n",
      "기댓값\n",
      "57\n",
      "결과괎\n",
      "\n",
      "실패\n"
     ]
    }
   ],
   "source": [
    "m.do_test('C:/workspace/coding_test/14503/14503.py')"
   ]
  },
  {
   "cell_type": "code",
   "execution_count": 17,
   "metadata": {},
   "outputs": [
    {
     "name": "stdout",
     "output_type": "stream",
     "text": [
      "it's me 1,1\n",
      "there is 0\n",
      "it's me 2,1\n",
      "there is 1\n",
      "it's me 2,0\n",
      "there is 1\n",
      "it's me 2,0\n",
      "there is 0\n",
      "it's me 2,0\n",
      "there is 0\n",
      "it's me 1,0\n",
      "there is 1\n",
      "it's me 1,0\n",
      "there is 0\n",
      "it's me 1,0\n",
      "there is 0\n",
      "it's me 1,0\n",
      "there is 0\n",
      "it's me 0,0\n",
      "there is 1\n",
      "it's me 0,0\n",
      "there is 0\n",
      "it's me 0,1\n",
      "there is 1\n",
      "it's me 0,1\n",
      "there is 0\n",
      "it's me 0,1\n",
      "there is 0\n",
      "it's me 0,1\n",
      "there is 0\n",
      "it's me 0,2\n",
      "there is 1\n",
      "it's me 0,2\n",
      "there is 0\n",
      "it's me 0,2\n",
      "there is 0\n",
      "it's me 1,2\n",
      "there is 1\n",
      "it's me 1,2\n",
      "there is 0\n",
      "it's me 1,2\n",
      "there is 0\n",
      "it's me 1,2\n",
      "there is 0\n",
      "it's me 2,2\n",
      "there is 1\n",
      "it's me 1,2\n",
      "there is 0\n",
      "it's me 0,2\n",
      "there is 0\n",
      "8\n"
     ]
    }
   ],
   "source": [
    "map_size = input().strip().split(' ')\n",
    "position_status = input().strip()\n",
    "r, c, d = list(map(int, position_status.split(' ')))\n",
    "\n",
    "row_size, col_size = list(map(int, map_size))\n",
    "\n",
    "room = []\n",
    "for _ in range(row_size) :\n",
    "    room.append(input().strip().split(' '))\n",
    "cnt = 0\n",
    "while True :\n",
    "    print(f\"it's me {r},{c}\")\n",
    "    print(f'there is {room[r][c]}')\n",
    "    if room[r][c] == '1' :\n",
    "        room[r][c] = '0'\n",
    "        cnt += 1\n",
    "    \n",
    "    not_find = True\n",
    "    for fr, fc in zip([1, -1, 0, 0], [0, 0, 1, -1]) :\n",
    "        if 0<= r+fr <= row_size-1 and 0 <= c + fc <= col_size-1 :\n",
    "            if room[r+fr][c+fc] == '1' :\n",
    "                not_find = False\n",
    "                d -= 1\n",
    "                if d < 0 :\n",
    "                    d = 3\n",
    "                \n",
    "                if d == 0 :\n",
    "                    if r-1 < 0 :\n",
    "                        break\n",
    "                    elif room[r-1][c] == '1' :\n",
    "                        r -= 1\n",
    "                elif d == 2 :\n",
    "                    if r + 1 == row_size :\n",
    "                        break\n",
    "                    elif room[r+1][c] == '1' :\n",
    "                        r += 1\n",
    "                elif d == 1 :\n",
    "                    if c+1 == col_size :\n",
    "                        break\n",
    "                    elif room[r][c+1] == '1' :\n",
    "                        c += 1\n",
    "                else :\n",
    "                    if c-1 < 0 :\n",
    "                        break\n",
    "                    elif room[r][c-1] == '1' :\n",
    "                        c -= 1\n",
    "                        \n",
    "    if not_find :\n",
    "        if d == 0 :\n",
    "            r += 1\n",
    "        elif d == 1 :\n",
    "            c -= 1\n",
    "        elif d == 2 :\n",
    "            r -= 1\n",
    "        else : # d == 3\n",
    "            c += 1\n",
    "        if not(0 <= r <= row_size-1 and 0 <= c <= col_size -1) :\n",
    "            print(cnt)\n",
    "            break"
   ]
  }
 ],
 "metadata": {
  "kernelspec": {
   "display_name": "Python 3",
   "language": "python",
   "name": "python3"
  },
  "language_info": {
   "codemirror_mode": {
    "name": "ipython",
    "version": 3
   },
   "file_extension": ".py",
   "mimetype": "text/x-python",
   "name": "python",
   "nbconvert_exporter": "python",
   "pygments_lexer": "ipython3",
   "version": "3.11.8"
  }
 },
 "nbformat": 4,
 "nbformat_minor": 2
}
