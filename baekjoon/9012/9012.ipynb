{
 "cells": [
  {
   "cell_type": "code",
   "execution_count": 5,
   "metadata": {},
   "outputs": [
    {
     "name": "stdout",
     "output_type": "stream",
     "text": [
      "No\n",
      "No\n",
      "YES\n",
      "No\n",
      "YES\n",
      "No\n"
     ]
    }
   ],
   "source": [
    "len_input = int(input())\n",
    "for _ in range(len_input) :\n",
    "    string = input()\n",
    "    while '()' in string :\n",
    "        string = string.replace('()', '')\n",
    "    if len(string) == 0 :\n",
    "        print('YES')\n",
    "    else :\n",
    "        print('No')"
   ]
  }
 ],
 "metadata": {
  "kernelspec": {
   "display_name": "Python 3",
   "language": "python",
   "name": "python3"
  },
  "language_info": {
   "codemirror_mode": {
    "name": "ipython",
    "version": 3
   },
   "file_extension": ".py",
   "mimetype": "text/x-python",
   "name": "python",
   "nbconvert_exporter": "python",
   "pygments_lexer": "ipython3",
   "version": "3.11.6"
  }
 },
 "nbformat": 4,
 "nbformat_minor": 2
}
