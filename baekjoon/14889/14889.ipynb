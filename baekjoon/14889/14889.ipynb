{
 "cells": [
  {
   "cell_type": "code",
   "execution_count": 4,
   "metadata": {},
   "outputs": [],
   "source": [
    "humans = int(input())\n",
    "combi_array = {}\n",
    "for index in range(humans) :\n",
    "    combi = input().split(' ') # \"a b ... Z\"를 입력받아서 [\"a\", \"b\", ..., \"z\"]\n",
    "    combi_array[index] = {index : int(num) for index, num in enumerate(combi)}"
   ]
  },
  {
   "cell_type": "code",
   "execution_count": 42,
   "metadata": {},
   "outputs": [
    {
     "name": "stdout",
     "output_type": "stream",
     "text": [
      "[0, 2] [1, 3]\n",
      "[1, 3] [0, 2]\n"
     ]
    },
    {
     "data": {
      "text/plain": [
       "0"
      ]
     },
     "execution_count": 42,
     "metadata": {},
     "output_type": "execute_result"
    }
   ],
   "source": [
    "humans = int(input())\n",
    "combi_array = {}\n",
    "for index in range(humans) :\n",
    "    combi = input().split(' ') # \"a b ... Z\"를 입력받아서 [\"a\", \"b\", ..., \"z\"]\n",
    "    combi_array[index] = {index : int(num) for index, num in enumerate(combi)}\n",
    "\n",
    "results = []\n",
    "\n",
    "def calc(team, another_team) :\n",
    "    team_value, another_team_value = 0, 0\n",
    "    # 팀 밸류 계산\n",
    "    for i in team :\n",
    "        for j in team :\n",
    "            if i == j :\n",
    "                continue\n",
    "            team_value += combi_array[i][j]\n",
    "    \n",
    "    # 어나더 팀 밸류 계산\n",
    "    for i in another_team :\n",
    "        for j in another_team :\n",
    "            if i == j :\n",
    "                continue\n",
    "            another_team_value += combi_array[i][j]\n",
    "    \n",
    "    return team_value - another_team_value if team_value >= another_team_value else -team_value + another_team_value\n",
    "    \n",
    "    \n",
    "def solution(team = []) :\n",
    "    if len(team) == humans//2 : # 팀이 다 결성된 경우\n",
    "        another_team = []\n",
    "        for who in range(humans) :\n",
    "            if who in team :\n",
    "                continue\n",
    "            another_team.append(who)\n",
    "        result = calc(team, another_team)\n",
    "        if result == 1 :\n",
    "            print(team, another_team)\n",
    "        results.append(result)\n",
    "        # results.append((team, another_team))\n",
    "    else :\n",
    "        if len(team) == 0 :\n",
    "            range_ = range(humans)\n",
    "        else :\n",
    "            range_ = range(team[-1]+1, humans)\n",
    "        for who in range_ :\n",
    "            if not who in team :\n",
    "                solution([*team, who])\n",
    "    \n",
    "\n",
    "solution()\n",
    "min(results)"
   ]
  }
 ],
 "metadata": {
  "kernelspec": {
   "display_name": "Python 3",
   "language": "python",
   "name": "python3"
  },
  "language_info": {
   "codemirror_mode": {
    "name": "ipython",
    "version": 3
   },
   "file_extension": ".py",
   "mimetype": "text/x-python",
   "name": "python",
   "nbconvert_exporter": "python",
   "pygments_lexer": "ipython3",
   "version": "3.11.2"
  }
 },
 "nbformat": 4,
 "nbformat_minor": 2
}
