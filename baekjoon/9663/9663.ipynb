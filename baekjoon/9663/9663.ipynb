{
 "cells": [
  {
   "cell_type": "code",
   "execution_count": 46,
   "metadata": {},
   "outputs": [
    {
     "name": "stdout",
     "output_type": "stream",
     "text": [
      "73712\n"
     ]
    }
   ],
   "source": [
    "# https://www.acmicpc.net/problem/9663\n",
    "# import time\n",
    "\n",
    "len_queens = int(input())\n",
    "# start = time.time()\n",
    "cnt = [0]\n",
    "def board_maker(n) :\n",
    "    return [[0 for i in range(n)]for i in range(n)]\n",
    "\n",
    "def print_array(array) :\n",
    "    text = ''\n",
    "    for line in array :\n",
    "        line_ = list(map(str, line))\n",
    "        text += ' '.join(line_)+'\\n'\n",
    "    print(text)\n",
    "\n",
    "def check(row, col, n = len_queens) :\n",
    "    # y = x 방향 \n",
    "    # col을 0으로 만들고 시작\n",
    "    s_row, s_col = row, col\n",
    "    # 2, 3 -> 2, 3\n",
    "    # \n",
    "    if row+col < len_queens :\n",
    "        value = col\n",
    "        s_row += value\n",
    "        s_col -= value\n",
    "    else :\n",
    "        value = n -1 -row\n",
    "        s_row += value\n",
    "        s_col -= value\n",
    "    for i in range(n) :\n",
    "        if s_row < 0 or s_col == n :\n",
    "            break\n",
    "        if board[s_row][s_col] == 1 :\n",
    "            return False\n",
    "        s_row -= 1\n",
    "        s_col += 1\n",
    "    # y = -x 방향\n",
    "    # row를 0으로 만들고 시작\n",
    "    s_row, s_col = row, col\n",
    "    value = len_queens -1 - s_row if s_row > s_col else len_queens -1 -s_col\n",
    "    s_row += value\n",
    "    s_col += value\n",
    "    for i in range(s_row + 1 if s_row < s_col else s_col + 1) :\n",
    "        if board[s_row][s_col] == 1 :\n",
    "            return False\n",
    "        s_row -= 1\n",
    "        s_col -= 1\n",
    "    return True\n",
    "        \n",
    "def solution(n, cols = [i for i in range(len_queens)]) :\n",
    "    if n == len_queens :\n",
    "        cnt[0] += 1\n",
    "    else :\n",
    "        for index, col in enumerate(cols) :\n",
    "            if check(n, col) :\n",
    "                board[n][col] = 1\n",
    "                solution(n+1, [*cols[:index], *cols[index+1:]])\n",
    "                board[n][col] = 0\n",
    "\n",
    "board = board_maker(len_queens)\n",
    "solution(0)\n",
    "# end = time.time()\n",
    "print(cnt[0])\n",
    "# print(f\"elapsed time : {round(end - start, 2)}\")"
   ]
  }
 ],
 "metadata": {
  "kernelspec": {
   "display_name": "Python 3",
   "language": "python",
   "name": "python3"
  },
  "language_info": {
   "codemirror_mode": {
    "name": "ipython",
    "version": 3
   },
   "file_extension": ".py",
   "mimetype": "text/x-python",
   "name": "python",
   "nbconvert_exporter": "python",
   "pygments_lexer": "ipython3",
   "version": "3.11.6"
  }
 },
 "nbformat": 4,
 "nbformat_minor": 2
}
