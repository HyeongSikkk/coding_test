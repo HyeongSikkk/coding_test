{
 "cells": [
  {
   "cell_type": "code",
   "execution_count": 2,
   "metadata": {},
   "outputs": [],
   "source": [
    "inputs = [\n",
    "    '''2\n",
    "5 6\n",
    "0 0 1 0''',\n",
    "'''3\n",
    "3 4 5\n",
    "1 0 1 0''',\n",
    "'''6\n",
    "1 2 3 4 5 6\n",
    "2 1 1 1'''\n",
    "]"
   ]
  },
  {
   "cell_type": "code",
   "execution_count": 12,
   "metadata": {},
   "outputs": [],
   "source": []
  },
  {
   "cell_type": "code",
   "execution_count": 23,
   "metadata": {},
   "outputs": [],
   "source": [
    "max_value = int(-1e9)\n",
    "min_value = -max_value"
   ]
  },
  {
   "cell_type": "code",
   "execution_count": 73,
   "metadata": {},
   "outputs": [
    {
     "name": "stdout",
     "output_type": "stream",
     "text": [
      "54\n",
      "-24\n"
     ]
    }
   ],
   "source": [
    "funcs = []\n",
    "\n",
    "N = int(input())\n",
    "numbers = input().strip().split(' ')\n",
    "operator = input().strip().split(' ')\n",
    "# 문자열을 숫자로\n",
    "operator_cnt = list(map(int, operator)) # ['0', '0', '1', '0'] -> [0, 0, 1, 0]\n",
    "\n",
    "def operator_maker(operator) :\n",
    "    oper = []\n",
    "    for idx, num in enumerate(operator) :\n",
    "        for _ in range(num) :\n",
    "            if idx == 0 :\n",
    "                oper.append('+')\n",
    "            elif idx == 1 :\n",
    "                oper.append('-')\n",
    "            elif idx == 2 :\n",
    "                oper.append('*')\n",
    "            else :\n",
    "                oper.append('//')\n",
    "    return oper\n",
    "\n",
    "def condition(func) :\n",
    "    oper_cnt = {\n",
    "        '+' : 0,\n",
    "        '-' : 0,\n",
    "        '*' : 0,\n",
    "        '//' : 0\n",
    "    }\n",
    "    for oper in func[1::2] : # 연산자들만 oper변수에 지정\n",
    "        oper_cnt[oper] += 1\n",
    "    \n",
    "    for inputed, now_cnt in zip(operator_cnt, oper_cnt.values()) :\n",
    "        if inputed < now_cnt : # 주어진 갯수보다 많은 경우 \n",
    "            return False\n",
    "    return True\n",
    "        \n",
    "\n",
    "def solution(n, func) :\n",
    "    if n == N :\n",
    "        funcs.append(func)\n",
    "            \n",
    "    else :\n",
    "        for oper in operator :\n",
    "            if condition([*func, oper]) :\n",
    "                solution(n+1, [*func, oper, numbers[n]])\n",
    "\n",
    "operator = operator_maker(operator_cnt)\n",
    "solution(1, [numbers[0]])\n",
    "\n",
    "# 최대와 최소\n",
    "max_value = int(-1e9)\n",
    "min_value = -max_value\n",
    "\n",
    "for func in funcs :\n",
    "    a = func.pop(0)\n",
    "    while len(func) != 0 :\n",
    "        oper = func.pop(0)\n",
    "        num = func.pop(0)\n",
    "        if oper == '//' and int(a) < 0 :\n",
    "            a = -eval(str(-a)+oper+num)\n",
    "        else :\n",
    "            a = eval(str(a)+oper+num)\n",
    "    if max_value < a :\n",
    "        max_value = a\n",
    "    if min_value > a :\n",
    "        min_value = a\n",
    "\n",
    "print(max_value)\n",
    "print(min_value)"
   ]
  },
  {
   "cell_type": "code",
   "execution_count": 71,
   "metadata": {},
   "outputs": [
    {
     "name": "stdout",
     "output_type": "stream",
     "text": [
      "-1\n",
      "0\n",
      "4\n",
      "9\n",
      "54\n"
     ]
    }
   ],
   "source": [
    "func = ['1', '-', '2', '//', '3', '+', '4', '+', '5', '*', '6']\n",
    "    a = func.pop(0)\n",
    "    while len(func) != 0 :\n",
    "        oper = func.pop(0)\n",
    "        num = func.pop(0)\n",
    "        if oper == '//' and a < 0 :\n",
    "            a = -eval(str(-a)+oper+num)\n",
    "        else :\n",
    "            a = eval(str(a)+oper+num)\n",
    "    if max_value < a :\n",
    "        max_value = a\n",
    "    if min_value > a :\n",
    "        min_value = a"
   ]
  },
  {
   "cell_type": "code",
   "execution_count": 69,
   "metadata": {},
   "outputs": [
    {
     "data": {
      "text/plain": [
       "48"
      ]
     },
     "execution_count": 69,
     "metadata": {},
     "output_type": "execute_result"
    }
   ],
   "source": [
    "a"
   ]
  }
 ],
 "metadata": {
  "kernelspec": {
   "display_name": "Python 3",
   "language": "python",
   "name": "python3"
  },
  "language_info": {
   "codemirror_mode": {
    "name": "ipython",
    "version": 3
   },
   "file_extension": ".py",
   "mimetype": "text/x-python",
   "name": "python",
   "nbconvert_exporter": "python",
   "pygments_lexer": "ipython3",
   "version": "3.11.6"
  }
 },
 "nbformat": 4,
 "nbformat_minor": 2
}
